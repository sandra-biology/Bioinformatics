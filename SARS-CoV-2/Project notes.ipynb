{
 "cells": [
  {
   "attachments": {},
   "cell_type": "markdown",
   "id": "61dbe0ba",
   "metadata": {},
   "source": [
    "### Project introduction and possibilities\n",
    "- downloaded Omicron viral (study) sequence and coding sequence data\n",
    "    - would be interesting to download coding sequence and viral study sequence for Delta and other variants\n",
    "- files are in FASTA format\n",
    "    - analysis would need to be done in Galaxy or similar software\n",
    "- for cohort data, need to be submit data use request\n",
    "- project possibilities\n",
    "    - NGS analysis similar to what I did with the NGS tutorial on the Galaxy website\n",
    "        - compare viral or coding sequences between variants\n",
    "            - what changed\n",
    "            - how does this correlate to changes in spike protein?\n",
    "                - try to find this sequence\n",
    "- downloaded Delta variant viral sequence and coding sequences for two other Omicron variants\n",
    "    - files have almost the same root name -> perform alignments individually to rename files\n",
    "- alignments\n",
    "    - started one alignment at 11:49 a.m., ran out of CPU (BLAST)\n",
    "        - adjusted target sequences to 50, running alignment 11:59 a.m. -> worked"
   ]
  }
 ],
 "metadata": {
  "kernelspec": {
   "display_name": "Python 3 (ipykernel)",
   "language": "python",
   "name": "python3"
  },
  "language_info": {
   "codemirror_mode": {
    "name": "ipython",
    "version": 3
   },
   "file_extension": ".py",
   "mimetype": "text/x-python",
   "name": "python",
   "nbconvert_exporter": "python",
   "pygments_lexer": "ipython3",
   "version": "3.9.12"
  }
 },
 "nbformat": 4,
 "nbformat_minor": 5
}
