{
 "cells": [
  {
   "cell_type": "markdown",
   "id": "b5cb15a3",
   "metadata": {},
   "source": [
    "### Project introduction and possibilities\n",
    "- downloaded Omicron viral (study) sequence and coding sequence data\n",
    "    - would be interesting to download coding sequence and viral study sequence for Delta and other variants\n",
    "- files are in FASTA format\n",
    "    - analysis would need to be done in Galaxy or similar software\n",
    "- for cohort data, need to be submit data use request\n",
    "- project possibilities\n",
    "    - NGS analysis similar to what I did with the NGS tutorial on the Galaxy website\n",
    "        - compare viral or coding sequences between variants\n",
    "            - what changed\n",
    "            - how does this correlate to changes in spike protein?\n",
    "                - try to find this sequence\n",
    "- downloaded Delta variant viral sequence and coding sequences for two other Omicron variants\n",
    "    - files have almost the same root name -> perform alignments individually to rename files\n",
    "- alignments\n",
    "    - started one alignment at 11:49 a.m., ran out of CPU (BLAST)\n",
    "        - adjusted target sequences to 50, running alignment 11:59 a.m. -> worked"
   ]
  },
  {
   "cell_type": "markdown",
   "id": "6ca54152",
   "metadata": {},
   "source": [
    "### Sequences of interest\n",
    "- coding sequences\n",
    "    - Omicron BA.5.5 accession number ON994285\n",
    "\t- Omicron BA.2.12.1 accession number ON994280\n",
    "- viral sequences\n",
    "    - Omicron BA.2.12.1 accession number ON981506\n",
    "\t- Omicron BA.4 accession number ON978956\n",
    "\t- Omicron BA.1.20 accession number ON998981\n",
    "\t- Omicron BA.5.6 accession number ON978962\n",
    "\t- Omicron BA.5.1 accession number ON978949\n",
    "\t- Omicron BA.2.3 accession number ON998286\n",
    "\t- Omicron BF.8 accession number ON978968"
   ]
  },
  {
   "cell_type": "markdown",
   "id": "34c8dd15",
   "metadata": {},
   "source": [
    "### Beginning of project\n",
    "- performed alignment of Omicron BA.5.5 variant coding sequence against other betacoronavirus sequences\n",
    "    - betacoronavirus database\n",
    "    - result: alignment successful, but BLAST doesn't give variant names specifically in results\n",
    "- next steps:\n",
    "    - download viral sequences\n",
    "    - use Galaxy software\n",
    "- other possibilities\n",
    "    - MSA viewer in BLAST gives tree view (when different variants/lineages split off or branch off)\n",
    "    - can potentially use this tree to help guide the project, but this would be time consuming (would need to run each sequence alignment through the database or do the alignment to tell which variant is what branch)\n",
    "- sequences vs reads\n",
    "    - sequences: generic name describing order of letters in DNA\n",
    "        - reads are examples of sequences\n",
    "    - reads: sequenced reads, usually 50-150 bp\n",
    "        - contigs: reads that have been assembled together\n",
    "- try both ways\n",
    "- goal:\n",
    "    - we know that as variants change, spike protein chagnes\n",
    "    - where in the RNA sequence did the chagnes occur that resulted in change of the spike protein\n",
    "        - another approach: start with the amino acid sequences and work backwards"
   ]
  },
  {
   "cell_type": "markdown",
   "id": "b2fba139",
   "metadata": {},
   "source": [
    "### Two possibilities ways of moving forward with the analysis: uploading sequences to Galaxy or import reads into history from SRA viewer."
   ]
  },
  {
   "cell_type": "markdown",
   "id": "ba56e482",
   "metadata": {},
   "source": [
    "### Sequences vs reads\n",
    "- upload sequences as FASTA format files, tried FastQC Read Quality Reports -> not able to select dataset (none are available in this format)\n",
    "- find reads in the SRA viewer/archive\n",
    "    - extracting reads in FASTQ format\n",
    "        - sending results to Run Selector\n",
    "            - runs chosen: RNA-seq Illumina MiSeq DRR385305, DRR385306, DRR385307, DRR385309, DRR392610, DRR392611, DRR392612, DRR392613\n",
    "                - uploading successful, but not able to run FastQC Read Quality Reports -> refresh memory with tutorials, past projects"
   ]
  }
 ],
 "metadata": {
  "kernelspec": {
   "display_name": "Python 3 (ipykernel)",
   "language": "python",
   "name": "python3"
  },
  "language_info": {
   "codemirror_mode": {
    "name": "ipython",
    "version": 3
   },
   "file_extension": ".py",
   "mimetype": "text/x-python",
   "name": "python",
   "nbconvert_exporter": "python",
   "pygments_lexer": "ipython3",
   "version": "3.9.12"
  }
 },
 "nbformat": 4,
 "nbformat_minor": 5
}
