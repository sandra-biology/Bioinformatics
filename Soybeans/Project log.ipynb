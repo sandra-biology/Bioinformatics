{
 "cells": [
  {
   "cell_type": "markdown",
   "metadata": {},
   "source": [
    "## Goal: find genes in resistant cultivar, then find subsequence of the genes in susceptible cultivars"
   ]
  },
  {
   "cell_type": "markdown",
   "metadata": {},
   "source": [
    "### Thought process\n",
    " - take one of the sequences from my thesis project\n",
    " - align it against the soybean reference genome\n",
    " - run analysis either in Galaxy software (usegalaxy.org) or with Biopython"
   ]
  },
  {
   "cell_type": "markdown",
   "metadata": {},
   "source": []
  },
  {
   "cell_type": "markdown",
   "metadata": {},
   "source": [
    "### Steps I am taking to complete this project\n",
    " - align Forrest Rhg4 region sequence with the soybean reference genome\n",
    " - in Python look for presence of genes in the aligned region of the Forrest Rhg4 sequence\n",
    " - try to find these genes (either whole sequence or subsequence) in sequences producing significant alignments"
   ]
  },
  {
   "cell_type": "markdown",
   "metadata": {},
   "source": [
    "### Parameteres used for alignment\n",
    " - program: nblast (Nucleotide BLAST)\n",
    " - database: refseq_genomes\n",
    " - organisms include: Glycine max (soybean) [taxid:3847]\n",
    " - other parameters left as their default values"
   ]
  },
  {
   "cell_type": "markdown",
   "metadata": {},
   "source": [
    "I ran the nlast, using the Forrest B100B10 Rhg4 sequence as the Query sequences with the above parameters. The followign sequences produced significant alignments:\n",
    " - Glycine max cultivar Williams chromosome 8\n",
    " - Glycine max cultivar Williams chromosome 5\n",
    " - Glycine max cultivar Williams chromosome 1\n",
    " - Glycine max cultivar Williams chromosome 4\n",
    " - Glycine max cultivar Williams chromosome 18\n",
    "\n",
    "I used Total Score and E value to choose sequences from those producing significant alignments (total of 40) as the sequences to use for this project. These five Williams cultivar sequences had the highest total score and the lowest E value, two parameters typically used to determine significance of the alignment."
   ]
  },
  {
   "cell_type": "markdown",
   "metadata": {},
   "source": [
    "For soybean cultivar Williams chromosomes 8 and 5 I created a list of the 16 ranges of alignment with the highest score and lowest E value. My next step is to look for presence of genes (start and stop codon pairs) in the Forrest Rhg4 region for each range of alignment."
   ]
  }
 ],
 "metadata": {
  "language_info": {
   "name": "python"
  }
 },
 "nbformat": 4,
 "nbformat_minor": 2
}
